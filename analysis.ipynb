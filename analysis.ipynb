{
 "cells": [
  {
   "attachments": {},
   "cell_type": "markdown",
   "metadata": {},
   "source": [
    "Data cleaning, analysis and visualization in Python using Jupyter Notebooks."
   ]
  },
  {
   "attachments": {},
   "cell_type": "markdown",
   "metadata": {},
   "source": [
    "Importing the necessary libraries.\n"
   ]
  },
  {
   "cell_type": "code",
   "execution_count": null,
   "metadata": {},
   "outputs": [],
   "source": [
    "import numpy as np\n",
    "import pandas as pd\n",
    "import matplotlib.pyplot as plt\n",
    "import seaborn as sns\n"
   ]
  },
  {
   "attachments": {},
   "cell_type": "markdown",
   "metadata": {},
   "source": [
    "Acquiring the data from the CSV file."
   ]
  },
  {
   "cell_type": "code",
   "execution_count": null,
   "metadata": {},
   "outputs": [],
   "source": [
    "netflix = pd.read_csv('netflix_titles.csv')"
   ]
  },
  {
   "attachments": {},
   "cell_type": "markdown",
   "metadata": {},
   "source": [
    "The data at first glance"
   ]
  },
  {
   "cell_type": "code",
   "execution_count": null,
   "metadata": {},
   "outputs": [],
   "source": [
    "#First 5 rows of the dataframe\n",
    "netflix.head()"
   ]
  },
  {
   "cell_type": "code",
   "execution_count": null,
   "metadata": {},
   "outputs": [],
   "source": [
    "#Number of rows and columns\n",
    "netflix.shape"
   ]
  },
  {
   "cell_type": "code",
   "execution_count": null,
   "metadata": {},
   "outputs": [],
   "source": [
    "#Statistical summary of our data\n",
    "netflix.describe()"
   ]
  },
  {
   "cell_type": "code",
   "execution_count": null,
   "metadata": {},
   "outputs": [],
   "source": [
    "netflix.info()"
   ]
  },
  {
   "attachments": {},
   "cell_type": "markdown",
   "metadata": {},
   "source": [
    "Now that our data has been imported correctly and we've taken a look at it, we can start noticing a few problems which may skew our analysis process:\n",
    "\n",
    "1.Null values are present in a few columns. Let's get the percentage of null values for each column:"
   ]
  },
  {
   "cell_type": "code",
   "execution_count": null,
   "metadata": {},
   "outputs": [],
   "source": [
    "percentages = netflix.isnull().mean()*100\n",
    "null_columns = round(percentages[percentages > 0], 2)\n",
    "null_columns.sort_values(ascending=False, inplace=True)\n",
    "null_columns"
   ]
  },
  {
   "attachments": {},
   "cell_type": "markdown",
   "metadata": {},
   "source": [
    "We can clearly tell there will be a problem when performing our analysis since more than a quarted of the \"director\" column is filled with null values, and almost 10% of the \"country\" and \"cast\" columns are null as well.\n",
    "\n",
    "To fix this, we will fill these columns with an empty string value (\"\"), since this will not affect our charts and plots.\n",
    "\n",
    "However, we can see a small percentage of missing values in the \"date_added\", \"duration\" and \"rating\" columns as well. Since these will make a large part of our plots, we shall remove the rows that containg null values in these columns in order to not skew with our analysis."
   ]
  },
  {
   "cell_type": "code",
   "execution_count": null,
   "metadata": {},
   "outputs": [],
   "source": [
    "#Filling in the null values\n",
    "netflix[['director', 'country', 'cast']].dtypes"
   ]
  },
  {
   "cell_type": "code",
   "execution_count": null,
   "metadata": {},
   "outputs": [],
   "source": [
    "netflix[['director', 'country', 'cast']] = netflix[['director', 'country', 'cast']].fillna(\"Unknown\")\n",
    "netflix.head()"
   ]
  },
  {
   "attachments": {},
   "cell_type": "markdown",
   "metadata": {},
   "source": [
    "Now that we have filled in the missing values for these columns, we need to do something about the rest. Since filling them as well would skew our plots and there is a very small amount of data missing, we will drop the rows that contain missing data in the \"date_added\", \"duration\" and \"rating\" columns."
   ]
  },
  {
   "cell_type": "code",
   "execution_count": null,
   "metadata": {},
   "outputs": [],
   "source": [
    "netflix.isnull().sum()"
   ]
  },
  {
   "attachments": {},
   "cell_type": "markdown",
   "metadata": {},
   "source": [
    "Since these are the only columns that still have null values, we can drop the rows as follows:"
   ]
  },
  {
   "cell_type": "code",
   "execution_count": null,
   "metadata": {},
   "outputs": [],
   "source": [
    "netflix.dropna(inplace=True)\n",
    "netflix.info()"
   ]
  },
  {
   "cell_type": "code",
   "execution_count": null,
   "metadata": {},
   "outputs": [],
   "source": [
    "netflix.isnull().any()"
   ]
  },
  {
   "attachments": {},
   "cell_type": "markdown",
   "metadata": {},
   "source": [
    "Now that our data is free of null values, we should start cleaning the not-null values."
   ]
  },
  {
   "cell_type": "code",
   "execution_count": null,
   "metadata": {},
   "outputs": [],
   "source": [
    "netflix.head()"
   ]
  },
  {
   "attachments": {},
   "cell_type": "markdown",
   "metadata": {},
   "source": [
    "Removing the trailing whitespaces from all of the string and mixed columns."
   ]
  },
  {
   "cell_type": "code",
   "execution_count": null,
   "metadata": {},
   "outputs": [],
   "source": [
    "for i in netflix.columns:\n",
    "    if netflix[i].dtype=='O':\n",
    "        netflix[i] = netflix[i].str.strip()\n",
    "netflix.head()"
   ]
  },
  {
   "cell_type": "code",
   "execution_count": null,
   "metadata": {},
   "outputs": [],
   "source": [
    "netflix['date_added'].dtype"
   ]
  },
  {
   "attachments": {},
   "cell_type": "markdown",
   "metadata": {},
   "source": [
    "Taking a look at the \"date_added\" column, we can see it is of type 'object' meaning it's a string. We will separate the column into 2 distinct columns: one for the year and one for the month."
   ]
  },
  {
   "cell_type": "code",
   "execution_count": null,
   "metadata": {},
   "outputs": [],
   "source": [
    "from datetime import datetime\n",
    "years = []\n",
    "months = []\n",
    "for i in range(len(netflix)):\n",
    "    date = netflix['date_added'].iloc[i]\n",
    "    date = datetime.strptime(date, \"%B %d, %Y\")\n",
    "\n",
    "    years.append(date.year)\n",
    "    months.append(date.month)\n",
    "\n",
    "if 'year_added' not in netflix.columns and 'month_added' not in netflix.columns:\n",
    "    netflix.insert(7, 'year_added', years, allow_duplicates=True)\n",
    "    netflix.insert(8, 'month_added', months, allow_duplicates=True)\n",
    "netflix.head()"
   ]
  },
  {
   "attachments": {},
   "cell_type": "markdown",
   "metadata": {},
   "source": [
    "Now that our \"date_added\" columns has been cleaned, we need to take a look at the other columns to see which ones containt corrupted values. We'll start with the \"type\" column.\n"
   ]
  },
  {
   "cell_type": "code",
   "execution_count": null,
   "metadata": {},
   "outputs": [],
   "source": [
    "netflix.type.value_counts()"
   ]
  },
  {
   "attachments": {},
   "cell_type": "markdown",
   "metadata": {},
   "source": [
    "We can see the column is formatted correctly as there can only be Movies and TV Shows as the values. We will later separate the dataframe into 2 subsets, one for each type, but for now, we have to finish the cleaning process."
   ]
  },
  {
   "attachments": {},
   "cell_type": "markdown",
   "metadata": {},
   "source": [
    "Now we will have a look at the rating column\n"
   ]
  },
  {
   "cell_type": "code",
   "execution_count": null,
   "metadata": {},
   "outputs": [],
   "source": [
    "netflix.rating.value_counts()"
   ]
  },
  {
   "attachments": {},
   "cell_type": "markdown",
   "metadata": {},
   "source": [
    "All of these are viable values for a \"rating\" column. This means we are almost finised with the data cleaning. All that is left to do is to examine the \"duration\" column and partition the dataset accordingly into movies and TV shows. "
   ]
  },
  {
   "cell_type": "code",
   "execution_count": null,
   "metadata": {},
   "outputs": [],
   "source": [
    "(netflix['duration'].str.contains('min') == (netflix['type'] == 'Movie'))"
   ]
  },
  {
   "attachments": {},
   "cell_type": "markdown",
   "metadata": {},
   "source": [
    "Our hypothesis is that every entry in the dataset that is listed as a movie in the \"type\" column will have a duration listed in the number of minutes. We will test if this is true for every entry in the dataset down below."
   ]
  },
  {
   "cell_type": "code",
   "execution_count": null,
   "metadata": {},
   "outputs": [],
   "source": [
    "(netflix['duration'].str.contains('min') == (netflix['type'] == 'Movie')).all()\n"
   ]
  },
  {
   "attachments": {},
   "cell_type": "markdown",
   "metadata": {},
   "source": [
    "It seems we were correct, we will now do the same thing for the TV shows, testing if every TV show's meassure unit in the \"duration\" column is the number of seasons."
   ]
  },
  {
   "cell_type": "code",
   "execution_count": null,
   "metadata": {},
   "outputs": [],
   "source": [
    "(netflix['duration'].str.contains('Season') == (netflix['type'] == 'TV Show')).all()\n"
   ]
  },
  {
   "attachments": {},
   "cell_type": "markdown",
   "metadata": {},
   "source": [
    "Perfect, this means that splitting our dataset into movies and TV shows is as simple as this."
   ]
  },
  {
   "cell_type": "code",
   "execution_count": null,
   "metadata": {},
   "outputs": [],
   "source": [
    "movies = netflix.groupby('type').get_group('Movie')\n",
    "movies"
   ]
  },
  {
   "cell_type": "code",
   "execution_count": null,
   "metadata": {},
   "outputs": [],
   "source": [
    "shows = netflix.groupby('type').get_group('TV Show')\n",
    "shows"
   ]
  },
  {
   "attachments": {},
   "cell_type": "markdown",
   "metadata": {},
   "source": [
    "To test if the records have been grouped correctly, we can do the following:"
   ]
  },
  {
   "cell_type": "code",
   "execution_count": null,
   "metadata": {},
   "outputs": [],
   "source": [
    "movies['type'].value_counts()"
   ]
  },
  {
   "cell_type": "code",
   "execution_count": null,
   "metadata": {},
   "outputs": [],
   "source": [
    "shows['type'].value_counts()"
   ]
  },
  {
   "cell_type": "code",
   "execution_count": null,
   "metadata": {},
   "outputs": [],
   "source": [
    "len(netflix) == len(shows) + len(movies)"
   ]
  },
  {
   "attachments": {},
   "cell_type": "markdown",
   "metadata": {},
   "source": [
    "Ok, we have our records split into movies and TV shows correctly, now to clean up the \"duration\" column accordingly."
   ]
  },
  {
   "cell_type": "code",
   "execution_count": null,
   "metadata": {},
   "outputs": [],
   "source": [
    "if 'duration' in movies.columns:\n",
    "    duration_list = movies['duration'].str.split()\n",
    "    duration_list = [i[0] for i in duration_list]\n",
    "    movies.iloc[0:, 11] = duration_list\n",
    "movies = movies.rename(columns = {'duration': 'length'})\n",
    "movies\n",
    "\n"
   ]
  },
  {
   "attachments": {},
   "cell_type": "markdown",
   "metadata": {},
   "source": [
    "And now we will do the same for our TV shows.\n"
   ]
  },
  {
   "cell_type": "code",
   "execution_count": null,
   "metadata": {},
   "outputs": [],
   "source": [
    "if 'duration' in shows.columns:\n",
    "    duration_list = shows['duration'].str.split()\n",
    "    duration_list = [i[0] for i in duration_list]\n",
    "    shows.iloc[0:, 11] = duration_list\n",
    "shows = shows.rename(columns = {'duration': 'number_of_seasons'})\n",
    "shows"
   ]
  },
  {
   "attachments": {},
   "cell_type": "markdown",
   "metadata": {},
   "source": [
    "Perfect! Our data is sparkling clean and now it's time for the analysis to begin. In order to get a better understanding of the data we have to work with, we will first plot how Netflix has evolved in terms of content over the last decade."
   ]
  },
  {
   "cell_type": "code",
   "execution_count": null,
   "metadata": {},
   "outputs": [],
   "source": [
    "fig = plt.figure(figsize=(13, 7))\n",
    "releases = netflix[netflix.release_year >= 2011].release_year.value_counts().sort_index()\n",
    "ax = fig.add_axes([0,0,1,1])\n",
    "ax.bar(np.arange(2011, 2022), releases, width=0.5)\n",
    "ax.set_xticks(np.arange(2011, 2022))\n",
    "ax.set_xlabel('Year')\n",
    "ax.set_ylabel('Number of releases')\n",
    "plt.show()\n"
   ]
  },
  {
   "attachments": {},
   "cell_type": "markdown",
   "metadata": {},
   "source": [
    "Let us evaluate our findings. From the graphs we can tell Netflix has been steadily growing its library of both Movies and TV shows, reaching over 6x as many titles in 2018 compared to 2011, and this number has remained almot constant through 2019 and 2020. "
   ]
  },
  {
   "attachments": {},
   "cell_type": "markdown",
   "metadata": {},
   "source": [
    "Presumably, due to the pandemic, the number of titles released in 2021 is significantly lower than the last few years, however."
   ]
  },
  {
   "attachments": {},
   "cell_type": "markdown",
   "metadata": {},
   "source": [
    "And now let us compare the number of released movies vs TV shows in the last decade."
   ]
  },
  {
   "cell_type": "code",
   "execution_count": null,
   "metadata": {},
   "outputs": [],
   "source": [
    "fig = plt.figure(figsize=(13, 7))\n",
    "movie_releases = movies[movies.release_year >= 2011].release_year.value_counts().sort_index()\n",
    "show_releases = shows[shows.release_year >= 2011].release_year.value_counts().sort_index()\n",
    "ax = fig.add_axes([0,0,1,1])\n",
    "ax.bar(np.arange(2011, 2022), movie_releases, width=0.5, color='#00b894', label='Movies')\n",
    "ax.bar(np.arange(2011, 2022), show_releases, width=0.5, color='#e17055', bottom = movie_releases, label='TV Shows')\n",
    "ax.set_xticks(np.arange(2011, 2022))\n",
    "ax.legend()\n",
    "ax.set_xlabel('Year')\n",
    "ax.set_ylabel('Number of releases')\n",
    "plt.show()"
   ]
  },
  {
   "attachments": {},
   "cell_type": "markdown",
   "metadata": {},
   "source": [
    "Interesting, it seems like the proportion of TV shows compared to movies has significantly grown over the last decade, reaching almost a perfect balance between the 2."
   ]
  },
  {
   "attachments": {},
   "cell_type": "markdown",
   "metadata": {},
   "source": [
    "In fact, let's visualize the proportion of TV Shows compared to movies. "
   ]
  },
  {
   "cell_type": "code",
   "execution_count": null,
   "metadata": {},
   "outputs": [],
   "source": [
    "fig, (a1, a2) = plt.subplots(1,2, figsize=(13, 7))\n",
    "a1.pie([len(movies), len(shows)], labels=['Movies', 'TV Shows'], autopct='%1.1f%%')\n",
    "a1.set_title('Total number of TV shows vs movies of all time')\n",
    "a2.pie([len(movies[movies.release_year == 2021]), len(shows[shows.release_year == 2021])], labels=['Movies', 'TV Shows'], colors=['#e17055', '#00b894' ] , autopct='%1.1f%%')\n",
    "a2.set_title('Total number of TV shows vs movies released in 2021')\n",
    "plt.show()"
   ]
  },
  {
   "attachments": {},
   "cell_type": "markdown",
   "metadata": {},
   "source": [
    "While the number of movies is still overall larger than the number of TV shows, we can see a trend towards more TV shows being added to the platform instead of movies."
   ]
  },
  {
   "attachments": {},
   "cell_type": "markdown",
   "metadata": {},
   "source": [
    "Now it's about time we took a look at the \"country\" column to see what are the most common places for movie and TV show production."
   ]
  },
  {
   "cell_type": "code",
   "execution_count": null,
   "metadata": {},
   "outputs": [],
   "source": [
    "netflix['country']"
   ]
  },
  {
   "attachments": {},
   "cell_type": "markdown",
   "metadata": {},
   "source": [
    "We can see there are titles which have been produced in multiple countries, thus, we need to separate them into the corresponding countries."
   ]
  },
  {
   "cell_type": "code",
   "execution_count": null,
   "metadata": {},
   "outputs": [],
   "source": [
    "def get_country_values(df):\n",
    "    country_values = pd.Series(dtype=int)\n",
    "    for c_list in df.country:\n",
    "        c_list = c_list.split(\",\")\n",
    "        for c in c_list:\n",
    "            c = c.strip()\n",
    "            if c != 'Unknown':\n",
    "                if c in country_values.index:\n",
    "                    country_values[c] +=1\n",
    "                else:\n",
    "                    country_values[c] = 1\n",
    "    return country_values"
   ]
  },
  {
   "cell_type": "code",
   "execution_count": null,
   "metadata": {},
   "outputs": [],
   "source": [
    "print(get_country_values(netflix))"
   ]
  },
  {
   "attachments": {},
   "cell_type": "markdown",
   "metadata": {},
   "source": [
    "Perfect, now we know the exact amount of movies and shows produced in each country, we will move on to visualizing this data."
   ]
  },
  {
   "cell_type": "code",
   "execution_count": null,
   "metadata": {},
   "outputs": [],
   "source": [
    "total_countries = get_country_values(netflix)\n",
    "total_countries.sort_values(ascending=False, inplace=True)\n",
    "top_10_countries = total_countries[:10]\n",
    "\n",
    "fig, ax = plt.subplots(figsize=(13, 7))\n",
    "ax.bar(top_10_countries.index, top_10_countries, width = 0.5, color=(0.2, 0.4, 0.6, 0.6))\n",
    "ax.set_xlabel('Country')\n",
    "ax.set_ylabel('Number of titles')\n",
    "plt.show()"
   ]
  },
  {
   "attachments": {},
   "cell_type": "markdown",
   "metadata": {},
   "source": [
    "And let's see what are the countries which produce the most movies vs TV shows."
   ]
  },
  {
   "cell_type": "code",
   "execution_count": null,
   "metadata": {},
   "outputs": [],
   "source": [
    "movie_countries = get_country_values(movies).sort_values(ascending = False)[:10]\n",
    "show_countries = get_country_values(shows).sort_values(ascending = False)[:10]\n",
    "\n",
    "fig, (a1, a2) = plt.subplots(1, 2, figsize = (21, 11))\n",
    "a1.barh(movie_countries.index[::-1], movie_countries[::-1], color = '#e17055')\n",
    "a1.set_xlabel('Number of movies produced')\n",
    "a1.set_ylabel('Country')\n",
    "a2.barh(show_countries.index[::-1], show_countries[::-1], color = '#00b894')\n",
    "a2.set_xlabel('Number of TV shows produced')\n",
    "a2.set_ylabel('Country')\n",
    "plt.show()"
   ]
  },
  {
   "attachments": {},
   "cell_type": "markdown",
   "metadata": {},
   "source": [
    "To end the analysis right, we shall visualize the correlation between the countries where movies and TV shows have been produced and their respective ratings."
   ]
  },
  {
   "cell_type": "code",
   "execution_count": null,
   "metadata": {},
   "outputs": [],
   "source": [
    "plt.figure(figsize=(13, 7))\n",
    "top_countries = get_country_values(netflix).sort_values(ascending = False).index[:5]\n",
    "g = sns.histplot(x = 'rating', y='country', data=netflix[netflix[\"country\"].isin(top_countries)])\n",
    "g.set_xlabel(\"Ratings\")\n",
    "g.set_ylabel(\"Countries\")\n",
    "g.set_title(\"Top 5 ratings per country\")\n",
    "plt.show()"
   ]
  }
 ],
 "metadata": {
  "kernelspec": {
   "display_name": "Python 3",
   "language": "python",
   "name": "python3"
  },
  "language_info": {
   "codemirror_mode": {
    "name": "ipython",
    "version": 3
   },
   "file_extension": ".py",
   "mimetype": "text/x-python",
   "name": "python",
   "nbconvert_exporter": "python",
   "pygments_lexer": "ipython3",
   "version": "3.10.4"
  },
  "orig_nbformat": 4,
  "vscode": {
   "interpreter": {
    "hash": "369f2c481f4da34e4445cda3fffd2e751bd1c4d706f27375911949ba6bb62e1c"
   }
  }
 },
 "nbformat": 4,
 "nbformat_minor": 2
}
